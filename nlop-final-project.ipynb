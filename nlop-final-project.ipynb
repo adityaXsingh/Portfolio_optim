{
 "cells": [
  {
   "attachments": {},
   "cell_type": "markdown",
   "metadata": {},
   "source": [
    "# Fixed income optimization"
   ]
  },
  {
   "attachments": {},
   "cell_type": "markdown",
   "metadata": {},
   "source": [
    "## Load data"
   ]
  },
  {
   "cell_type": "code",
   "execution_count": 2,
   "metadata": {},
   "outputs": [],
   "source": [
    "import pandas as pd\n",
    "import numpy as np\n",
    "import cvxpy as cp\n"
   ]
  },
  {
   "cell_type": "code",
   "execution_count": 3,
   "metadata": {},
   "outputs": [],
   "source": [
    "def load_matrices(input_sheet, input_tab):\n",
    "    df = pd.read_excel(input_sheet, sheet_name=input_tab)\n",
    "\n",
    "    if \"sec_id\" not in df.columns:\n",
    "        raise ValueError(\"The dataframe must have a column named 'sec_id'\")\n",
    "    \n",
    "\n",
    "    df = df.sort_values(by=\"sec_id\")\n",
    "\n",
    "\n",
    "    sec_id = df[\"sec_id\"].astype(\"category\")\n",
    "\n",
    "\n",
    "    sectors = df[[col for col in df.columns if col.startswith(\"s_\")]].to_numpy()\n",
    "\n",
    "\n",
    "    weight = df[[\"weight\"]].to_numpy()\n",
    "\n",
    "\n",
    "    dts = df[[col for col in df.columns if col.startswith(\"dts\")]].to_numpy()\n",
    "\n",
    "\n",
    "    dts = np.nan_to_num(dts)\n",
    "\n",
    "\n",
    "    quality = df[[col for col in df.columns if col.startswith(\"q_\")]].to_numpy()\n",
    "\n",
    "\n",
    "    return (sectors, weight, dts, quality, sec_id)\n"
   ]
  },
  {
   "cell_type": "code",
   "execution_count": 4,
   "metadata": {},
   "outputs": [],
   "source": [
    "input_sheet = \"../data/optimisation-clean_data.xlsx\"\n",
    "\n",
    "sectors_model, weight_model, dts_model, quality_model, sec_id_model = load_matrices(\n",
    "    input_sheet, \"model\"\n",
    ")\n",
    "\n",
    "\n",
    "assert abs(sum(weight_model) - 1) < 1e-6\n",
    "\n",
    "sectors_target, weight_target, dts_target, quality_target, sec_id_target = load_matrices(\n",
    "    input_sheet, \"target3\"\n",
    ")\n",
    "\n",
    "\n",
    "assert list(sec_id_model) == list(sec_id_target)"
   ]
  },
  {
   "attachments": {},
   "cell_type": "markdown",
   "metadata": {},
   "source": [
    "# Model"
   ]
  },
  {
   "attachments": {},
   "cell_type": "markdown",
   "metadata": {},
   "source": [
    "Defining variables\n"
   ]
  },
  {
   "cell_type": "code",
   "execution_count": 5,
   "metadata": {},
   "outputs": [],
   "source": [
    "# model\n",
    "S_m = sectors_model\n",
    "W_m = weight_model\n",
    "dts_m = dts_model\n",
    "Q_m = quality_model\n",
    "\n",
    "# target data\n",
    "S_t = sectors_target\n",
    "W_t = weight_target\n",
    "dts_t = dts_target\n",
    "Q_t = quality_target\n"
   ]
  },
  {
   "attachments": {},
   "cell_type": "markdown",
   "metadata": {},
   "source": [
    "Compute weighted version of sectors, dts, and quality"
   ]
  },
  {
   "cell_type": "code",
   "execution_count": 6,
   "metadata": {},
   "outputs": [],
   "source": [
    "C_1 = S_m.T @ W_m\n",
    "C_2 = Q_m.T @ W_m\n",
    "C_3 = dts_m.T @ W_m\n"
   ]
  },
  {
   "cell_type": "code",
   "execution_count": 7,
   "metadata": {},
   "outputs": [
    {
     "name": "stdout",
     "output_type": "stream",
     "text": [
      "status: optimal\n",
      "optimal value 0.0006018234877872264\n"
     ]
    }
   ],
   "source": [
    "n = sec_id_model.shape[0]\n",
    "\n",
    "w = cp.Variable((n, 1))\n",
    "\n",
    "lamba1 = 0.2\n",
    "lamba2 = 0.2\n",
    "lamba3 = 0.6\n",
    "\n",
    "objective = cp.Minimize(\n",
    "    lamba3 * cp.norm(C_3 - dts_t.T @ w, 2)\n",
    "    + lamba2 * cp.norm(C_2 - Q_t.T @ w, 2)\n",
    "    + lamba1 * cp.norm(C_1 - S_t.T @ w, 2)\n",
    ")\n",
    "\n",
    "constraints = [w >= 0, w <= 0.03, cp.sum(w) == 1]\n",
    "\n",
    "prob = cp.Problem(objective, constraints)\n",
    "prob.solve()\n",
    "\n",
    "print(\"status:\", prob.status)\n",
    "print(\"optimal value\", prob.value)\n",
    "w_opt_1 = w.value"
   ]
  },
  {
   "cell_type": "code",
   "execution_count": 8,
   "metadata": {},
   "outputs": [
    {
     "name": "stdout",
     "output_type": "stream",
     "text": [
      "[[0.14580964]\n",
      " [0.04662234]\n",
      " [0.18196216]\n",
      " [0.59571393]\n",
      " [0.02989193]]\n"
     ]
    }
   ],
   "source": [
    "print(Q_m.T @ W_m)"
   ]
  },
  {
   "cell_type": "code",
   "execution_count": 9,
   "metadata": {},
   "outputs": [
    {
     "name": "stdout",
     "output_type": "stream",
     "text": [
      "[[0.14567988]\n",
      " [0.04628124]\n",
      " [0.18182183]\n",
      " [0.59559035]\n",
      " [0.03062627]]\n"
     ]
    }
   ],
   "source": [
    "print(Q_t.T @ w_opt_1)"
   ]
  },
  {
   "attachments": {},
   "cell_type": "markdown",
   "metadata": {},
   "source": [
    "New code with new objective function"
   ]
  },
  {
   "cell_type": "code",
   "execution_count": 10,
   "metadata": {},
   "outputs": [
    {
     "name": "stdout",
     "output_type": "stream",
     "text": [
      "status: optimal\n",
      "optimal value 4.048217761010164e-09\n",
      "[[0.13713726]\n",
      " [0.04947368]\n",
      " [0.19377632]\n",
      " [0.58982697]\n",
      " [0.02978578]]\n"
     ]
    }
   ],
   "source": [
    "import cvxpy as cp\n",
    "import numpy as np\n",
    "\n",
    "w = cp.Variable((n, 1))\n",
    "obj = cp.Minimize(cp.norm(C_3 - dts_t.T @ w, 2))\n",
    "constraints = [w >= 0, w <= 0.03, cp.sum(w) == 1, Q_t.T @ w <= [[0.15, 0.05 , 0.20, 0.60, 0.03]]]\n",
    "prob = cp.Problem(obj, constraints)\n",
    "prob.solve()\n",
    "\n",
    "print(\"status:\", prob.status)\n",
    "print(\"optimal value\", prob.value)\n",
    "w_opt = w.value\n",
    "# print(Q_t.T @ w_opt)\n",
    "print(Q_t.T @ w_opt)\n",
    "\n",
    " "
   ]
  },
  {
   "attachments": {},
   "cell_type": "markdown",
   "metadata": {},
   "source": [
    "Gradient of objective function @ w_opt"
   ]
  },
  {
   "cell_type": "code",
   "execution_count": 11,
   "metadata": {},
   "outputs": [
    {
     "name": "stdout",
     "output_type": "stream",
     "text": [
      "(20,)\n"
     ]
    }
   ],
   "source": [
    "grad = -2 * (C_3 - w_opt.T @ dts_t) * dts_t\n",
    "grad_sort = np.sort(grad, axis=0)[::-1][:10].round(20)\n",
    "#selecting the non-zero values\n",
    "grad_sort = grad[grad >= 0.00001]\n",
    "print(grad_sort.shape)\n",
    "\n"
   ]
  }
 ],
 "metadata": {
  "kernelspec": {
   "display_name": "Python 3.11.2 64-bit",
   "language": "python",
   "name": "python3"
  },
  "language_info": {
   "codemirror_mode": {
    "name": "ipython",
    "version": 3
   },
   "file_extension": ".py",
   "mimetype": "text/x-python",
   "name": "python",
   "nbconvert_exporter": "python",
   "pygments_lexer": "ipython3",
   "version": "3.9.16"
  },
  "orig_nbformat": 4,
  "vscode": {
   "interpreter": {
    "hash": "aee8b7b246df8f9039afb4144a1f6fd8d2ca17a180786b69acc140d282b71a49"
   }
  }
 },
 "nbformat": 4,
 "nbformat_minor": 2
}
